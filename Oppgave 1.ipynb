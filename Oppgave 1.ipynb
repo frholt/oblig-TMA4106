{
 "cells": [
  {
   "cell_type": "code",
   "execution_count": null,
   "id": "b729ffc1",
   "metadata": {},
   "outputs": [],
   "source": [
    "# Importerer bibliotekene som har blitt brukt\n",
    "\n",
    "import numpy as np\n",
    "import pandas as pd\n",
    "import matplotlib.pyplot as plt\n",
    "import matplotlib.animation as animation\n",
    "from IPython.display import HTML\n",
    "import matplotlib as mpl\n",
    "mpl.rcParams['animation.embed_limit'] = 500  # Må økes for å vise animasjon av løsningen\n",
    "\n",
    "#-------------------------------------------------------#\n",
    "# Oppgave 1\n",
    "#-------------------------------------------------------#\n",
    "# Definerer f(x)\n",
    "def f(x):\n",
    "    return np.exp(x)\n",
    "\n",
    "x = 1.5\n",
    "\n",
    "# Regner den nøyaktige verdien\n",
    "f_exact = f(x)\n",
    "\n",
    "# Tester ulike h-verdier\n",
    "h_values = [10**(-i) for i in range(1, 17)]\n",
    "\n",
    "results = []\n",
    "\n",
    "# Regner ut f(x) for de forskjellige h-verdiene med formelen gitt\n",
    "for h in h_values:\n",
    "    v_likn = (f(x + h) - f(x)) / h\n",
    "    error = abs(v_likn - f_exact) # Tar absolutt verdi for å bedre vise hvor mye vi bommer med\n",
    "    results.append((h, v_likn, error))\n",
    "\n",
    "# Viser resultatene i en tabell\n",
    "df = pd.DataFrame(results, columns=[\"h-values\", \"f'(x) approx\", \"abs(error)\"])    \n",
    "\n",
    "# Viser resultatene i form av en graf\n",
    "plt.figure(figsize=(8,5))\n",
    "plt.semilogx(df[\"h-values\"], df[\"abs(error)\"], marker='o')\n",
    "plt.xlabel(\"h-values\")\n",
    "plt.ylabel(\"abs(error)\")\n",
    "plt.title(\"Feil...\")\n",
    "plt.grid(True, which=\"both\", ls=\"--\")\n",
    "plt.tight_layout()\n",
    "plt.show()\n",
    "\n",
    "f'Når h blir 10^-15 bommer vi med ca 0.85 og når h blir 10^-16 går det helt åt skogen.'\n",
    "\n",
    "df"
   ]
  }
 ],
 "metadata": {
  "kernelspec": {
   "display_name": "Python 3 (ipykernel)",
   "language": "python",
   "name": "python3"
  },
  "language_info": {
   "codemirror_mode": {
    "name": "ipython",
    "version": 3
   },
   "file_extension": ".py",
   "mimetype": "text/x-python",
   "name": "python",
   "nbconvert_exporter": "python",
   "pygments_lexer": "ipython3",
   "version": "3.9.12"
  }
 },
 "nbformat": 4,
 "nbformat_minor": 5
}
